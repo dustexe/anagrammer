{
 "cells": [
  {
   "cell_type": "markdown",
   "metadata": {},
   "source": [
    "## Build hash map"
   ]
  },
  {
   "cell_type": "code",
   "execution_count": 1,
   "metadata": {},
   "outputs": [],
   "source": [
    "from string import ascii_lowercase\n",
    "\n",
    "# a = 1, b = 2,..., z = 26\n",
    "letter_scores = dict(zip(ascii_lowercase, range(1, 27)))"
   ]
  },
  {
   "cell_type": "code",
   "execution_count": 12,
   "metadata": {},
   "outputs": [],
   "source": [
    "# returns an anagram-friendly version of a string, or throws an error if the string is not alphabetic\n",
    "def clean_word(word):\n",
    "    if not word.isalpha():\n",
    "        raise ValueError(\"Words must be alphabetic strings.\")\n",
    "    return word.lower().strip()\n",
    "\n",
    "# sums the hash values of letters in a word\n",
    "def compute_word_score(word):\n",
    "    cleaned_word = clean_word(word)\n",
    "    scores = [letter_scores[letter] for letter in cleaned_word]\n",
    "    return sum(scores)"
   ]
  },
  {
   "cell_type": "code",
   "execution_count": 13,
   "metadata": {},
   "outputs": [
    {
     "name": "stdout",
     "output_type": "stream",
     "text": [
      "1st word score: 10\n",
      "2nd word score: 10\n"
     ]
    }
   ],
   "source": [
    "# word score tests\n",
    "\n",
    "test_word_1 = \"abcd\" # sum should be 1 + 2 + 3 + 4 = 10\n",
    "score_1 = compute_word_score(test_word_1)\n",
    "print(\"1st word score: \" + str(score_1))\n",
    "\n",
    "test_word_2 = \"ee\" # sum should be 5 + 5 = 10\n",
    "score_2 = compute_word_score(test_word_2)\n",
    "print(\"2nd word score: \" + str(score_2))"
   ]
  },
  {
   "cell_type": "code",
   "execution_count": 15,
   "metadata": {},
   "outputs": [],
   "source": [
    "with open('scrabble_words.txt', encoding=\"utf-8\") as f:\n",
    "    scrabble_words = [line.strip() for line in f]\n",
    "    \n",
    "# score all words in scrabble dictionary, then reduce to unique sums\n",
    "word_scores = [compute_word_score(clean_word(word)) for word in scrabble_words]\n",
    "\n",
    "scores_unique = set(word_scores)"
   ]
  },
  {
   "cell_type": "code",
   "execution_count": 7,
   "metadata": {},
   "outputs": [],
   "source": [
    "# returns list of words that have given score\n",
    "def get_words_with_score(score):\n",
    "        return [word for word in scrabble_words if compute_word_score(clean_word(word)) == score]"
   ]
  },
  {
   "cell_type": "code",
   "execution_count": 18,
   "metadata": {},
   "outputs": [],
   "source": [
    "# collect all words that have the same score into lists\n",
    "words_with_scores = [get_words_with_score(score) for score in scores_unique]\n",
    "\n",
    "scores_to_words = dict(zip(scores_unique, words_with_scores))\n",
    "\n",
    "# there's gotta be a way to vectorize this\n",
    "# for score in scores_unique:\n",
    "#     words_with_score = [word for word in scrabble_words if compute_word_score(word.lower()) == score]\n",
    "#     scores_to_words[score] = words_with_score"
   ]
  },
  {
   "cell_type": "code",
   "execution_count": 19,
   "metadata": {},
   "outputs": [],
   "source": [
    "def assert_anagrams(word_1, word_2):\n",
    "    # why doesn't and keyword work correctly here?\n",
    "    if not word_1.isalpha() and not word_2.isalpha():\n",
    "        raise ValueError(\"Both words must be alphabetic strings.\")\n",
    "    clean_word_1 = clean_word(word_1)\n",
    "    clean_word_2 = clean_word(word_2)\n",
    "    return sorted(clean_word_1) == sorted(clean_word_2)"
   ]
  },
  {
   "cell_type": "code",
   "execution_count": 20,
   "metadata": {},
   "outputs": [
    {
     "name": "stdout",
     "output_type": "stream",
     "text": [
      "peach & cheap: True\n",
      "peach & beach: False\n",
      "Peach & Cheap: True\n",
      "Peach & Beach: False\n",
      "Harry & Harry: True\n",
      "1234 & Dip1: threw an error!\n"
     ]
    }
   ],
   "source": [
    "# assert_anagrams tests\n",
    "\n",
    "print(\"peach & cheap: \" + str(assert_anagrams(\"peach\", \"cheap\")))\n",
    "print(\"peach & beach: \" + str(assert_anagrams(\"peach\", \"beach\")))\n",
    "\n",
    "print(\"Peach & Cheap: \" + str(assert_anagrams(\"Peach\", \"Cheap\")))\n",
    "print(\"Peach & Beach: \" + str(assert_anagrams(\"Peach\", \"Beach\")))\n",
    "\n",
    "print(\"Harry & Harry: \" + str(assert_anagrams(\"Harry\", \"Harry\")))\n",
    "\n",
    "try:\n",
    "    print(\"1234 & Dip1: \" + str(assert_anagrams(\"1234\", \"Dip1\")))\n",
    "except ValueError:\n",
    "    print(\"1234 & Dip1: \" + \"threw an error!\")"
   ]
  },
  {
   "cell_type": "code",
   "execution_count": 21,
   "metadata": {},
   "outputs": [],
   "source": [
    "def get_anagrams(word):\n",
    "    # word_cleaned = word.lower().strip() or something like that\n",
    "    score = compute_word_score(word.lower())\n",
    "    possible_anagrams = scores_to_words[score]\n",
    "    return [anagram for anagram in possible_anagrams if assert_anagrams(word.lower(), anagram)]"
   ]
  },
  {
   "cell_type": "code",
   "execution_count": null,
   "metadata": {},
   "outputs": [],
   "source": [
    "# multi-word anagrammer\n",
    "# input is string of words separated by spaces\n",
    "def get_anagrams(input_words):\n",
    "    words = input_words.split()\n",
    "    cleaned_words = [clean_word(word) for word in words]\n",
    "    word_lengths = [len(word) for word in cleaned_words]\n",
    "    total_score = sum([compute_word_score(word) for word in words])"
   ]
  },
  {
   "cell_type": "code",
   "execution_count": 26,
   "metadata": {},
   "outputs": [
    {
     "name": "stdout",
     "output_type": "stream",
     "text": [
      "Anagrams of 'peach:' ['CHAPE', 'CHEAP', 'PEACH']\n"
     ]
    }
   ],
   "source": [
    "print(\"Anagrams of 'peach:' \" + str(get_anagrams(\"peach\")))"
   ]
  },
  {
   "cell_type": "code",
   "execution_count": 27,
   "metadata": {},
   "outputs": [
    {
     "name": "stdout",
     "output_type": "stream",
     "text": [
      "Anagrams of 'hostile:' ['EOLITHS', 'HOLIEST', 'HOSTILE']\n"
     ]
    }
   ],
   "source": [
    "print(\"Anagrams of 'hostile:' \" + str(get_anagrams(\"hostile\")))"
   ]
  },
  {
   "cell_type": "markdown",
   "metadata": {},
   "source": [
    "### Next steps:\n",
    "\n",
    "1. handle multiple words\n",
    "2. ~~sanitize inputs~~\n",
    "3. build UI"
   ]
  },
  {
   "cell_type": "code",
   "execution_count": null,
   "metadata": {},
   "outputs": [],
   "source": [
    "from string import ascii_lowercase\n",
    "\n",
    "class Anagrammer:\n",
    "    \n",
    "    def __init__(self):\n",
    "        \n",
    "        # it probably makes the most sense to just...have the scores-to-words list created up front\n",
    "        # and then read it in when the object is created? No point in doing all that computation\n",
    "        # every single time a new Anagrammer gets spun up.\n",
    "        # Maybe include a method for creating a new list given a different set of words just for \n",
    "        # completeness' sake? For weirdos who don't respect scrabble.\n",
    "        self.letter_scores = dict(zip(ascii_lowercase, range(1, 27)))\n",
    "        \n",
    "        with open('scrabble_words.txt', encoding=\"utf-8\") as f:\n",
    "            self.scrabble_words = [line.strip() for line in f]\n",
    "        word_scores = [self.compute_word_score(word.lower()) for word in self.scrabble_words]\n",
    "        \n",
    "        scores_unique = set(word_scores)\n",
    "        \n",
    "        # collect all words that have the same score into lists\n",
    "        self.scores_to_words = {}\n",
    "\n",
    "        # there's gotta be a way to vectorize this\n",
    "        for score in scores_unique:\n",
    "            words_with_score = [word for word in scrabble_words if self.compute_word_score(word.lower()) == score]\n",
    "            self.scores_to_words[score] = words_with_score\n",
    "            \n",
    "        # doesn't work\n",
    "#         words_with_scores = [self.get_words_with_score(score) for score in scores_unique]\n",
    "            \n",
    "    def clean_word(self, word):\n",
    "        if not word.isalpha():\n",
    "            raise ValueError(\"Words must be alphabetic strings.\")\n",
    "        return word.lower().strip()\n",
    "    \n",
    "    def compute_word_score(self, word):\n",
    "        scores = [self.letter_scores[letter] for letter in word]\n",
    "        return sum(scores)\n",
    "    \n",
    "    def assert_anagrams(self, word_1, word_2):\n",
    "        # why doesn't and keyword work correctly here?\n",
    "        if not word_1.isalpha() & word_2.isalpha():\n",
    "            raise ValueError(\"Both words must be alphabetic strings.\")\n",
    "        # also need to check for whitespace\n",
    "        return sorted(word_1.lower()) == sorted(word_2.lower())\n",
    "    \n",
    "    def get_anagrams(self, word):\n",
    "        # word_cleaned = word.lower().strip() or something like that\n",
    "        score = self.compute_word_score(word.lower())\n",
    "        possible_anagrams = self.scores_to_words[score]\n",
    "        return [anagram for anagram in possible_anagrams if self.assert_anagrams(word.lower(), anagram)]\n",
    "    \n",
    "    # doesn't work\n",
    "    def get_words_with_score(self, score):\n",
    "        return [word for word in self.scrabble_words if self.compute_word_score(self.clean_word(word)) == score]"
   ]
  },
  {
   "cell_type": "code",
   "execution_count": null,
   "metadata": {},
   "outputs": [],
   "source": [
    "anagrammer = Anagrammer()"
   ]
  },
  {
   "cell_type": "code",
   "execution_count": null,
   "metadata": {},
   "outputs": [],
   "source": [
    "anagrammer.get_anagrams(\"peach\")"
   ]
  },
  {
   "cell_type": "code",
   "execution_count": null,
   "metadata": {},
   "outputs": [],
   "source": []
  }
 ],
 "metadata": {
  "kernelspec": {
   "display_name": "Python 3",
   "language": "python",
   "name": "python3"
  },
  "language_info": {
   "codemirror_mode": {
    "name": "ipython",
    "version": 3
   },
   "file_extension": ".py",
   "mimetype": "text/x-python",
   "name": "python",
   "nbconvert_exporter": "python",
   "pygments_lexer": "ipython3",
   "version": "3.8.3"
  }
 },
 "nbformat": 4,
 "nbformat_minor": 4
}
